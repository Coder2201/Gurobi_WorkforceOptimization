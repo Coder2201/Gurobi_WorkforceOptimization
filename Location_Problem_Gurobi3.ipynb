{
  "nbformat": 4,
  "nbformat_minor": 0,
  "metadata": {
    "colab": {
      "provenance": []
    },
    "kernelspec": {
      "name": "python3",
      "display_name": "Python 3"
    },
    "language_info": {
      "name": "python"
    }
  },
  "cells": [
    {
      "cell_type": "code",
      "source": [
        "# Installing packages\n",
        "!pip install gurobipy"
      ],
      "metadata": {
        "colab": {
          "base_uri": "https://localhost:8080/"
        },
        "id": "Y6yh3oX-yY1q",
        "outputId": "7f1ff136-710b-43ca-bca3-4396f1f2bcf1"
      },
      "execution_count": 9,
      "outputs": [
        {
          "output_type": "stream",
          "name": "stdout",
          "text": [
            "Looking in indexes: https://pypi.org/simple, https://us-python.pkg.dev/colab-wheels/public/simple/\n",
            "Requirement already satisfied: gurobipy in /usr/local/lib/python3.7/dist-packages (9.5.2)\n"
          ]
        }
      ]
    },
    {
      "cell_type": "code",
      "execution_count": 10,
      "metadata": {
        "id": "p8jJBduiyBXf"
      },
      "outputs": [],
      "source": [
        "#Importing packages for the second approach: package - gurobi\n",
        "\n",
        "from itertools import product\n",
        "from math import sqrt\n",
        "import itertools\n",
        "\n",
        "import gurobipy as gp\n",
        "from gurobipy import *\n",
        "import pandas as pd\n",
        "\n"
      ]
    },
    {
      "cell_type": "code",
      "source": [
        "# Loading the list of capacity, fixed cost, variable cost, and demand into data frames\n",
        "dmd = {'Demand': {'A': 145.4,\n",
        "  'B': 84.1,\n",
        "  'C': 156.4,\n",
        "  'D': 1676.8,\n",
        "  'E': 2719.6}}\n",
        "\n",
        "var_co = {'A': {'A': 8, 'B': 14, 'C': 21, 'D': 21, 'E': 12},\n",
        " 'B': {'A': 14, 'B': 6, 'C': 13, 'D': 14, 'E': 13},\n",
        " 'C': {'A': 23, 'B': 13, 'C': 8, 'D': 10, 'E': 22},\n",
        " 'D': {'A': 21, 'B': 14, 'C': 9, 'D': 3, 'E': 20},\n",
        " 'E': {'A': 12, 'B': 13, 'C': 17, 'D': 20, 'E': 6}}\n",
        "\n",
        "\n",
        "fix_co = {'High_C': {'A': 4730,\n",
        "  'B': 7270,\n",
        "  'C': 3080,\n",
        "  'D': 9100,\n",
        "  'E': 9500},\n",
        " 'Low_C': {'A': 3230,\n",
        "  'B': 4980,\n",
        "  'C': 2110,\n",
        "  'D': 6230,\n",
        "  'E': 6500}}\n",
        "\n",
        "cap = {'High_C': {'A': 1500,\n",
        "  'B': 1500,\n",
        "  'C': 1500,\n",
        "  'D': 1500,\n",
        "  'E': 1500},\n",
        " 'Low_C': {'A': 500,\n",
        "  'B': 500,\n",
        "  'C': 500,\n",
        "  'D': 500,\n",
        "  'E': 500}}\n",
        "\n",
        "demand = pd.DataFrame(dmd)\n",
        "var_cost = pd.DataFrame(var_co)\n",
        "fix_cost = pd.DataFrame(fix_co)\n",
        "capacity = pd.DataFrame(cap)\n"
      ],
      "metadata": {
        "id": "pzoTksV1yQLe"
      },
      "execution_count": 11,
      "outputs": []
    },
    {
      "cell_type": "code",
      "source": [
        "# Initialize the model\n",
        "m = gp.Model('facility_location')\n",
        "\n",
        "# Defining decision variables\n",
        "loc = ['A', 'B', 'C', 'D', 'E']\n",
        "size = ['Low_C','High_C']\n",
        "x = m.addVars(loc, size, vtype=GRB.BINARY) # (x[i,s])\n",
        "y = m.addVars(loc, loc, vtype=GRB.CONTINUOUS) #(y[i,j])"
      ],
      "metadata": {
        "id": "HxCydzTRyDle"
      },
      "execution_count": 12,
      "outputs": []
    },
    {
      "cell_type": "code",
      "source": [
        "# Define objective function\n",
        "# MIP Model Formulation\n",
        "\n",
        "objective = gp.quicksum(fix_cost[s][i] * x[(i, s)] for s in size for i in loc) + gp.quicksum(var_cost[i][j] * y[(i, j)]for i in loc for j in loc)\n",
        "m.setObjective(objective, GRB.MINIMIZE)"
      ],
      "metadata": {
        "id": "dtOjVpU2yJJt"
      },
      "execution_count": 14,
      "outputs": []
    },
    {
      "cell_type": "code",
      "source": [
        "# Defining Constraints\n",
        "for j in loc:\n",
        "  m.addConstr(gp.quicksum([y[(i, j)] for i in loc]) == demand.loc[j,'Demand'])\n",
        "  \n",
        "for i in loc:\n",
        "  m.addConstr(gp.quicksum([y[(i, j)] for j in loc]) <= gp.quicksum([capacity[s][i] * x[(i,s)] for s in size]))"
      ],
      "metadata": {
        "id": "pfEM57LByJyr"
      },
      "execution_count": 15,
      "outputs": []
    },
    {
      "cell_type": "code",
      "source": [
        "# Optimized cost - 58850.9\n",
        "m.optimize()"
      ],
      "metadata": {
        "colab": {
          "base_uri": "https://localhost:8080/"
        },
        "id": "1LOnjjUSyMuu",
        "outputId": "c6be1d99-ce25-436c-f824-e2f73f1947b9"
      },
      "execution_count": 16,
      "outputs": [
        {
          "output_type": "stream",
          "name": "stdout",
          "text": [
            "Gurobi Optimizer version 9.5.2 build v9.5.2rc0 (linux64)\n",
            "Thread count: 1 physical cores, 2 logical processors, using up to 2 threads\n",
            "Optimize a model with 10 rows, 35 columns and 60 nonzeros\n",
            "Model fingerprint: 0xa8d55b1a\n",
            "Variable types: 25 continuous, 10 integer (10 binary)\n",
            "Coefficient statistics:\n",
            "  Matrix range     [1e+00, 2e+03]\n",
            "  Objective range  [3e+00, 1e+04]\n",
            "  Bounds range     [1e+00, 1e+00]\n",
            "  RHS range        [8e+01, 3e+03]\n",
            "Presolve time: 0.00s\n",
            "Presolved: 10 rows, 35 columns, 60 nonzeros\n",
            "Variable types: 25 continuous, 10 integer (10 binary)\n",
            "Found heuristic solution: objective 71734.600000\n",
            "\n",
            "Root relaxation: objective 5.681828e+04, 6 iterations, 0.00 seconds (0.00 work units)\n",
            "\n",
            "    Nodes    |    Current Node    |     Objective Bounds      |     Work\n",
            " Expl Unexpl |  Obj  Depth IntInf | Incumbent    BestBd   Gap | It/Node Time\n",
            "\n",
            "     0     0 56818.2753    0    3 71734.6000 56818.2753  20.8%     -    0s\n",
            "H    0     0                    63242.200000 56818.2753  10.2%     -    0s\n",
            "     0     0 58269.8755    0    3 63242.2000 58269.8755  7.86%     -    0s\n",
            "*    0     0               0    58850.900000 58850.9000  0.00%     -    0s\n",
            "\n",
            "Cutting planes:\n",
            "  MIR: 4\n",
            "  RLT: 1\n",
            "  Relax-and-lift: 1\n",
            "\n",
            "Explored 1 nodes (15 simplex iterations) in 0.06 seconds (0.00 work units)\n",
            "Thread count was 2 (of 2 available processors)\n",
            "\n",
            "Solution count 3: 58850.9 63242.2 71734.6 \n",
            "\n",
            "Optimal solution found (tolerance 1.00e-04)\n",
            "Best objective 5.885090000000e+04, best bound 5.885090000000e+04, gap 0.0000%\n"
          ]
        }
      ]
    }
  ]
}